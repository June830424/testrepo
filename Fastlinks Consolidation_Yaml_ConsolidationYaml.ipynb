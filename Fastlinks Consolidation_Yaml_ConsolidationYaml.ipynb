{
 "cells": [
  {
   "cell_type": "code",
   "execution_count": 5,
   "metadata": {},
   "outputs": [
    {
     "name": "stdout",
     "output_type": "stream",
     "text": [
      "If no file name printed, you are good to go\n",
      "Total File checked is 23  Total file Number is  23\n"
     ]
    }
   ],
   "source": [
    "# Check the Sheet Name\n",
    "import pandas as pd\n",
    "import numpy as np\n",
    "import os\n",
    "\n",
    "# Go to the path store the yaml file\n",
    "os.chdir('C:\\\\Users\\\\june8\\\\Desktop\\\\Python\\\\Pandas Learning\\\\FastlinksConsolidationRpt')\n",
    "\n",
    "\n",
    "# Find yaml file and import\n",
    "import yaml\n",
    "\n",
    "with open(\"ConsolidationYAML.txt\", 'r') as stream:\n",
    "    try:\n",
    "        data = yaml.safe_load(stream)\n",
    "    except yaml.YAMLError as exc:\n",
    "        print(exc)\n",
    "\n",
    "#Get File Path and SheetName from Yaml File\n",
    "Yaml_File_Path = data['FastLFilePath']\n",
    "Yaml_File_SheetName = data['SheetName']\n",
    "Yaml_File_DropNaCol = data ['dropnacol']\n",
    "Yaml_File_SavingPath = data ['SavingPath']\n",
    "\n",
    "\n",
    "# Find the file Name\n",
    "f=[]\n",
    "os.chdir(Yaml_File_Path)\n",
    "f = os.listdir()\n",
    "\n",
    "# Loop to get the file name with wrong sheet name\n",
    "import xlrd\n",
    "\n",
    "i=0 \n",
    "j = len(f)\n",
    "while i < j:\n",
    "    FastLFilePathName = Yaml_File_Path + '\\\\' + f[i]\n",
    "    exlfile = xlrd.open_workbook (FastLFilePathName, on_demand=True)\n",
    "    if Yaml_File_SheetName != exlfile.sheet_names(): print(f[i])\n",
    "    i=i+1\n",
    "print('If no file name printed, you are good to go')\n",
    "print(\"Total File checked is\",i,\" Total file Number is \",j)"
   ]
  },
  {
   "cell_type": "code",
   "execution_count": 260,
   "metadata": {},
   "outputs": [],
   "source": [
    "# Merge the Files to one File\n",
    "l = 0\n",
    "j = len(f)\n",
    "k = len(Yaml_File_SheetName)\n",
    "while l < k:\n",
    "    i = 0 \n",
    "    Path = Yaml_File_Path + '\\\\' + f[0]\n",
    "    df = pd.read_excel(Path, sheet_name = Yaml_File_SheetName[l])\n",
    "    df = df.dropna(subset = [Yaml_File_DropNaCol])\n",
    "    SavingF = Yaml_File_SavingPath + '\\\\' + Yaml_File_SheetName[l] +'.xlsx'\n",
    "    while i < j:\n",
    "        Path = Yaml_File_Path + '\\\\' + f[i]\n",
    "        df1 = pd.read_excel(Path,sheet_name = Yaml_File_SheetName[l])\n",
    "        df1 = df1.dropna(subset = [Yaml_File_DropNaCol])\n",
    "        df = pd.concat([df,df1])\n",
    "        i = i + 1\n",
    "    l=l+1\n",
    "    df.reset_index(drop = True,inplace =True)\n",
    "    df.to_excel(SavingF)"
   ]
  }
 ],
 "metadata": {
  "kernelspec": {
   "display_name": "Python 3",
   "language": "python",
   "name": "python3"
  },
  "language_info": {
   "codemirror_mode": {
    "name": "ipython",
    "version": 3
   },
   "file_extension": ".py",
   "mimetype": "text/x-python",
   "name": "python",
   "nbconvert_exporter": "python",
   "pygments_lexer": "ipython3",
   "version": "3.7.3"
  }
 },
 "nbformat": 4,
 "nbformat_minor": 2
}
